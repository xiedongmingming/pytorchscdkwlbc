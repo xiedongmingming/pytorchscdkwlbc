{
  "nbformat": 4,
  "nbformat_minor": 0,
  "metadata": {
    "colab": {
      "name": "00_pytorch_basics.ipynb",
      "provenance": [],
      "collapsed_sections": []
    },
    "kernelspec": {
      "name": "python3",
      "display_name": "Python 3"
    }
  },
  "cells": [
    {
      "cell_type": "markdown",
      "metadata": {
        "id": "DpII-qgno6EX",
        "colab_type": "text"
      },
      "source": [
        "# PyTorch Basics  - Tensors, Differentiaton\n",
        "\n",
        "Make Your First GAN With PyTorch, 2020"
      ]
    },
    {
      "cell_type": "code",
      "metadata": {
        "id": "7bkrfSHHAPUB",
        "colab_type": "code",
        "colab": {}
      },
      "source": [
        "import torch"
      ],
      "execution_count": 0,
      "outputs": []
    },
    {
      "cell_type": "markdown",
      "metadata": {
        "id": "R1VyK4VQpNYA",
        "colab_type": "text"
      },
      "source": [
        "## Normal python variables"
      ]
    },
    {
      "cell_type": "code",
      "metadata": {
        "id": "MrgKlTsRAfSk",
        "colab_type": "code",
        "outputId": "17ba27ed-17ea-47db-a7f2-8db12349f941",
        "colab": {
          "base_uri": "https://localhost:8080/",
          "height": 34
        }
      },
      "source": [
        "# normal python variables\n",
        "\n",
        "x = 3.5\n",
        "\n",
        "y = x*x + 2\n",
        "\n",
        "print(x, y)"
      ],
      "execution_count": 0,
      "outputs": [
        {
          "output_type": "stream",
          "text": [
            "3.5 14.25\n"
          ],
          "name": "stdout"
        }
      ]
    },
    {
      "cell_type": "markdown",
      "metadata": {
        "id": "F4OTVK6hpSWN",
        "colab_type": "text"
      },
      "source": [
        "## PyTorch Tensors"
      ]
    },
    {
      "cell_type": "code",
      "metadata": {
        "id": "rawHNyI0F_kE",
        "colab_type": "code",
        "outputId": "ddbfaf4f-d7b5-4476-899c-94ab948fef10",
        "colab": {
          "base_uri": "https://localhost:8080/",
          "height": 34
        }
      },
      "source": [
        "# simple pytorch tensor\n",
        "\n",
        "x = torch.tensor(3.5)\n",
        "\n",
        "print(x)"
      ],
      "execution_count": 0,
      "outputs": [
        {
          "output_type": "stream",
          "text": [
            "tensor(3.5000)\n"
          ],
          "name": "stdout"
        }
      ]
    },
    {
      "cell_type": "markdown",
      "metadata": {
        "id": "9awP8pdcpYkS",
        "colab_type": "text"
      },
      "source": [
        "## Simple Arithmetic"
      ]
    },
    {
      "cell_type": "code",
      "metadata": {
        "id": "lzBkNWmEM1Ti",
        "colab_type": "code",
        "outputId": "e0ad1a73-06cc-419b-91b3-655ae47f3397",
        "colab": {
          "base_uri": "https://localhost:8080/",
          "height": 34
        }
      },
      "source": [
        "# simple arithmetic with tensors\n",
        "\n",
        "y = x + 3\n",
        "\n",
        "print(y)"
      ],
      "execution_count": 0,
      "outputs": [
        {
          "output_type": "stream",
          "text": [
            "tensor(6.5000)\n"
          ],
          "name": "stdout"
        }
      ]
    },
    {
      "cell_type": "code",
      "metadata": {
        "id": "K3ApzYRGWPBn",
        "colab_type": "code",
        "outputId": "707d38fc-ceac-45e3-892d-dac9be8b78ba",
        "colab": {
          "base_uri": "https://localhost:8080/",
          "height": 34
        }
      },
      "source": [
        "# pytorch tensor with gradient enabled\n",
        "\n",
        "x = torch.tensor(3.5, requires_grad=True)\n",
        "\n",
        "print(x)"
      ],
      "execution_count": 0,
      "outputs": [
        {
          "output_type": "execute_result",
          "data": {
            "text/plain": [
              "tensor(3.5000, requires_grad=True)"
            ]
          },
          "metadata": {
            "tags": []
          },
          "execution_count": 34
        }
      ]
    },
    {
      "cell_type": "markdown",
      "metadata": {
        "id": "ljyzfEjGpf_X",
        "colab_type": "text"
      },
      "source": [
        "## Functional Relationship Between Tensors"
      ]
    },
    {
      "cell_type": "code",
      "metadata": {
        "id": "aqiw-7N-WS_l",
        "colab_type": "code",
        "outputId": "96eca481-708c-45ab-88b5-69e90c485ccb",
        "colab": {
          "base_uri": "https://localhost:8080/",
          "height": 34
        }
      },
      "source": [
        "# y is defined as a function of x\n",
        "\n",
        "y = (x-1) * (x-2) * (x-3)\n",
        "\n",
        "print(y)"
      ],
      "execution_count": 0,
      "outputs": [
        {
          "output_type": "stream",
          "text": [
            "tensor(1.8750, grad_fn=<MulBackward0>)\n"
          ],
          "name": "stdout"
        }
      ]
    },
    {
      "cell_type": "markdown",
      "metadata": {
        "id": "OomRR79kpj-W",
        "colab_type": "text"
      },
      "source": [
        "## Automatic Differentiation and Gradient Calculation"
      ]
    },
    {
      "cell_type": "code",
      "metadata": {
        "id": "TOhq_oKGXSOy",
        "colab_type": "code",
        "colab": {}
      },
      "source": [
        "# work out gradients\n",
        "\n",
        "y.backward()"
      ],
      "execution_count": 0,
      "outputs": []
    },
    {
      "cell_type": "code",
      "metadata": {
        "id": "jnBUpoBLfKoI",
        "colab_type": "code",
        "outputId": "ae54c18d-3f43-4104-950f-60a14e0f924b",
        "colab": {
          "base_uri": "https://localhost:8080/",
          "height": 34
        }
      },
      "source": [
        "# what is gradient at x = 3.5\n",
        "\n",
        "x.grad"
      ],
      "execution_count": 0,
      "outputs": [
        {
          "output_type": "execute_result",
          "data": {
            "text/plain": [
              "tensor(5.7500)"
            ]
          },
          "metadata": {
            "tags": []
          },
          "execution_count": 44
        }
      ]
    },
    {
      "cell_type": "code",
      "metadata": {
        "id": "0PHs8JXnfVvh",
        "colab_type": "code",
        "colab": {}
      },
      "source": [
        ""
      ],
      "execution_count": 0,
      "outputs": []
    }
  ]
}