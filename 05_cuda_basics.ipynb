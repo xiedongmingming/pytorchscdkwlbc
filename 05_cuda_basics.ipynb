{
  "nbformat": 4,
  "nbformat_minor": 0,
  "metadata": {
    "colab": {
      "name": "05_cuda_basics.ipynb",
      "provenance": [],
      "collapsed_sections": []
    },
    "kernelspec": {
      "name": "python3",
      "display_name": "Python 3"
    },
    "accelerator": "GPU"
  },
  "cells": [
    {
      "cell_type": "markdown",
      "metadata": {
        "id": "KcviuZ92K-0Y",
        "colab_type": "text"
      },
      "source": [
        "# CUDA Basics - Simple Examples\n",
        "\n",
        "Make Your First GAN With PyTorch, 2020"
      ]
    },
    {
      "cell_type": "code",
      "metadata": {
        "id": "8-fk3XZeK0hP",
        "colab_type": "code",
        "colab": {}
      },
      "source": [
        "import torch\n",
        "import numpy"
      ],
      "execution_count": 0,
      "outputs": []
    },
    {
      "cell_type": "markdown",
      "metadata": {
        "id": "G40AKirRhOcs",
        "colab_type": "text"
      },
      "source": [
        "## Compare Numpy with Python"
      ]
    },
    {
      "cell_type": "code",
      "metadata": {
        "id": "TyZQfwoLKyaI",
        "colab_type": "code",
        "colab": {}
      },
      "source": [
        "# size of square matrix\n",
        "size = 600\n",
        "\n",
        "a = numpy.random.rand(size, size)\n",
        "b = numpy.random.rand(size, size)"
      ],
      "execution_count": 0,
      "outputs": []
    },
    {
      "cell_type": "code",
      "metadata": {
        "id": "RiWSaKT3b57n",
        "colab_type": "code",
        "outputId": "343f4028-6700-4a4e-8dd1-2e98763ea861",
        "colab": {
          "base_uri": "https://localhost:8080/",
          "height": 34
        }
      },
      "source": [
        "%%timeit\n",
        "\n",
        "x = numpy.dot(a,b)"
      ],
      "execution_count": 0,
      "outputs": [
        {
          "output_type": "stream",
          "text": [
            "100 loops, best of 3: 13.2 ms per loop\n"
          ],
          "name": "stdout"
        }
      ]
    },
    {
      "cell_type": "code",
      "metadata": {
        "id": "nJe4_VVpYn_i",
        "colab_type": "code",
        "outputId": "b9c62d2f-5315-40fb-f129-52eb544c6a09",
        "colab": {
          "base_uri": "https://localhost:8080/",
          "height": 34
        }
      },
      "source": [
        "%%timeit\n",
        "\n",
        "c = numpy.zeros((size,size))\n",
        "\n",
        "for i in range(size):\n",
        "  for j in range(size):\n",
        "    for k in range(size):\n",
        "      c[i,j] += a[i,k] * b[k,j]\n",
        "    pass\n",
        "  pass"
      ],
      "execution_count": 0,
      "outputs": [
        {
          "output_type": "stream",
          "text": [
            "1 loop, best of 3: 3min 20s per loop\n"
          ],
          "name": "stdout"
        }
      ]
    },
    {
      "cell_type": "markdown",
      "metadata": {
        "id": "7IsDaKcoNFLR",
        "colab_type": "text"
      },
      "source": [
        "## Tensors On The GPU"
      ]
    },
    {
      "cell_type": "code",
      "metadata": {
        "id": "1H1U4grjNL_m",
        "colab_type": "code",
        "outputId": "a0480efe-0ace-413c-a296-6ffa90ae02ef",
        "colab": {
          "base_uri": "https://localhost:8080/",
          "height": 34
        }
      },
      "source": [
        "# create tensor on GPU\n",
        "\n",
        "x = torch.cuda.FloatTensor([3.5])\n",
        "x.type()"
      ],
      "execution_count": 0,
      "outputs": [
        {
          "output_type": "execute_result",
          "data": {
            "text/plain": [
              "'torch.cuda.FloatTensor'"
            ]
          },
          "metadata": {
            "tags": []
          },
          "execution_count": 5
        }
      ]
    },
    {
      "cell_type": "code",
      "metadata": {
        "id": "ITLReJU_bR6-",
        "colab_type": "code",
        "outputId": "d4a6ef29-53f9-442b-80cd-cdae308f8168",
        "colab": {
          "base_uri": "https://localhost:8080/",
          "height": 34
        }
      },
      "source": [
        "# check tensor is on GPU\n",
        "x.device"
      ],
      "execution_count": 0,
      "outputs": [
        {
          "output_type": "execute_result",
          "data": {
            "text/plain": [
              "device(type='cuda', index=0)"
            ]
          },
          "metadata": {
            "tags": []
          },
          "execution_count": 6
        }
      ]
    },
    {
      "cell_type": "code",
      "metadata": {
        "id": "OKCqHZ0zbcIn",
        "colab_type": "code",
        "outputId": "fceed783-9865-40e5-e15a-3f2629d65df6",
        "colab": {
          "base_uri": "https://localhost:8080/",
          "height": 34
        }
      },
      "source": [
        "# calculation with tensor on GPU\n",
        "\n",
        "y = x * x\n",
        "y"
      ],
      "execution_count": 0,
      "outputs": [
        {
          "output_type": "execute_result",
          "data": {
            "text/plain": [
              "tensor([12.2500], device='cuda:0')"
            ]
          },
          "metadata": {
            "tags": []
          },
          "execution_count": 7
        }
      ]
    },
    {
      "cell_type": "markdown",
      "metadata": {
        "id": "yF8mW5kqiPOZ",
        "colab_type": "text"
      },
      "source": [
        "## CUDA Performance"
      ]
    },
    {
      "cell_type": "code",
      "metadata": {
        "id": "Pg78pR2vM_U2",
        "colab_type": "code",
        "colab": {}
      },
      "source": [
        "# create cuda tensors from numpy arrays\n",
        "\n",
        "aa = torch.cuda.FloatTensor(a)\n",
        "bb = torch.cuda.FloatTensor(b)"
      ],
      "execution_count": 0,
      "outputs": []
    },
    {
      "cell_type": "code",
      "metadata": {
        "id": "1_7JODnbF2gw",
        "colab_type": "code",
        "outputId": "f5017e4b-578b-45b3-a95a-e7325f62d84c",
        "colab": {
          "base_uri": "https://localhost:8080/",
          "height": 51
        }
      },
      "source": [
        "%%timeit\n",
        "\n",
        "cc = torch.matmul(aa, bb)"
      ],
      "execution_count": 0,
      "outputs": [
        {
          "output_type": "stream",
          "text": [
            "The slowest run took 29.97 times longer than the fastest. This could mean that an intermediate result is being cached.\n",
            "10000 loops, best of 3: 74.6 µs per loop\n"
          ],
          "name": "stdout"
        }
      ]
    },
    {
      "cell_type": "code",
      "metadata": {
        "id": "8bRilYK-h2bN",
        "colab_type": "code",
        "colab": {}
      },
      "source": [
        ""
      ],
      "execution_count": 0,
      "outputs": []
    },
    {
      "cell_type": "markdown",
      "metadata": {
        "id": "ba7Ggq_6M5Bb",
        "colab_type": "text"
      },
      "source": [
        "## Standard CUDA Check And Set Up"
      ]
    },
    {
      "cell_type": "code",
      "metadata": {
        "id": "lU86giDzM3Dv",
        "colab_type": "code",
        "outputId": "da312c5b-ecfb-4e38-a6fa-4ccf475d7de9",
        "colab": {
          "base_uri": "https://localhost:8080/",
          "height": 51
        }
      },
      "source": [
        "# check if CUDA is available\n",
        "# if yes, set default tensor type to cuda\n",
        "\n",
        "if torch.cuda.is_available():\n",
        "  torch.set_default_tensor_type(torch.cuda.FloatTensor)\n",
        "  print(\"using cuda:\", torch.cuda.get_device_name(0))\n",
        "  pass\n",
        "\n",
        "device = torch.device(\"cuda\" if torch.cuda.is_available() else \"cpu\")\n",
        "\n",
        "device"
      ],
      "execution_count": 0,
      "outputs": [
        {
          "output_type": "stream",
          "text": [
            "using cuda: Tesla P100-PCIE-16GB\n"
          ],
          "name": "stdout"
        },
        {
          "output_type": "execute_result",
          "data": {
            "text/plain": [
              "device(type='cuda')"
            ]
          },
          "metadata": {
            "tags": []
          },
          "execution_count": 10
        }
      ]
    }
  ]
}