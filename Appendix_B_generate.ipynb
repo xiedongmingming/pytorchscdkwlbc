{
  "nbformat": 4,
  "nbformat_minor": 0,
  "metadata": {
    "colab": {
      "name": "Appendix_B_generate.ipynb",
      "provenance": [],
      "collapsed_sections": []
    },
    "kernelspec": {
      "name": "python3",
      "display_name": "Python 3"
    }
  },
  "cells": [
    {
      "cell_type": "markdown",
      "metadata": {
        "id": "Ru5DFA0hWB0X",
        "colab_type": "text"
      },
      "source": [
        "# Appendix B - Generating Images From A Probability Distribution\n",
        "\n",
        "Make Your First GAN With PyTorch, 2020"
      ]
    },
    {
      "cell_type": "code",
      "metadata": {
        "id": "WjY6jMhhaXgE",
        "colab_type": "code",
        "colab": {}
      },
      "source": [
        "import random\n",
        "import numpy\n",
        "import matplotlib.pyplot as plt"
      ],
      "execution_count": 0,
      "outputs": []
    },
    {
      "cell_type": "code",
      "metadata": {
        "id": "hVEapqKVag2g",
        "colab_type": "code",
        "outputId": "bb3ef932-a966-409f-b51c-afbdcfbac2a2",
        "colab": {
          "base_uri": "https://localhost:8080/",
          "height": 286
        }
      },
      "source": [
        "# counts are the observed number of coloured pixels at each position from a dataset of 8 examples\n",
        "\n",
        "counts = numpy.array([[6,0,1],\n",
        "                             [0,7,0],\n",
        "                             [2,0,1]], dtype=float)\n",
        "\n",
        "plt.imshow(counts, cmap='Reds', interpolation=None)"
      ],
      "execution_count": 0,
      "outputs": [
        {
          "output_type": "execute_result",
          "data": {
            "text/plain": [
              "<matplotlib.image.AxesImage at 0x7fba12fb0e10>"
            ]
          },
          "metadata": {
            "tags": []
          },
          "execution_count": 49
        },
        {
          "output_type": "display_data",
          "data": {
            "image/png": "[encoded data removed]",
            "text/plain": [
              "<Figure size 432x288 with 1 Axes>"
            ]
          },
          "metadata": {
            "tags": []
          }
        }
      ]
    },
    {
      "cell_type": "code",
      "metadata": {
        "id": "ojaVgW2ia3HY",
        "colab_type": "code",
        "outputId": "3b0cd7cf-44e8-4089-c970-6f991f788c78",
        "colab": {
          "base_uri": "https://localhost:8080/",
          "height": 68
        }
      },
      "source": [
        "# probabilities are (counts) / (total possible)\n",
        "\n",
        "probabilities = counts/8\n",
        "probabilities"
      ],
      "execution_count": 0,
      "outputs": [
        {
          "output_type": "execute_result",
          "data": {
            "text/plain": [
              "array([[0.75 , 0.   , 0.125],\n",
              "       [0.   , 0.875, 0.   ],\n",
              "       [0.25 , 0.   , 0.125]])"
            ]
          },
          "metadata": {
            "tags": []
          },
          "execution_count": 50
        }
      ]
    },
    {
      "cell_type": "code",
      "metadata": {
        "id": "YvtdBCE9gd4L",
        "colab_type": "code",
        "outputId": "bec32fdc-e3c6-4ddc-fdf4-ed4864be9f25",
        "colab": {
          "base_uri": "https://localhost:8080/",
          "height": 286
        }
      },
      "source": [
        "# make image of 0's and 1's with proabilities\n",
        "\n",
        "r = numpy.random.uniform(size=(3,3))\n",
        "diff = probabilities - r\n",
        "img = numpy.ceil(diff)\n",
        "\n",
        "plt.imshow(img, cmap='Blues', interpolation=None)"
      ],
      "execution_count": 0,
      "outputs": [
        {
          "output_type": "execute_result",
          "data": {
            "text/plain": [
              "<matplotlib.image.AxesImage at 0x7fba13091550>"
            ]
          },
          "metadata": {
            "tags": []
          },
          "execution_count": 92
        },
        {
          "output_type": "display_data",
          "data": {
            "image/png": "[encoded data removed]",
            "text/plain": [
              "<Figure size 432x288 with 1 Axes>"
            ]
          },
          "metadata": {
            "tags": []
          }
        }
      ]
    },
    {
      "cell_type": "code",
      "metadata": {
        "id": "PDj1pA_vbxCJ",
        "colab_type": "code",
        "outputId": "dec6585a-f69a-41e1-9dff-b9a322448fbf",
        "colab": {
          "base_uri": "https://localhost:8080/",
          "height": 469
        }
      },
      "source": [
        "# plot several outputs each samples against probabilies\n",
        "\n",
        "# plot a 6 column, 4 row array of images\n",
        "f, axarr = plt.subplots(4, 6, figsize=(12,8))\n",
        "for i in range(4):\n",
        "    for j in range(6):\n",
        "        r = numpy.random.uniform(size=(3,3))\n",
        "        diff = probabilities-r\n",
        "        img = numpy.ceil(diff)\n",
        "        axarr[i,j].set_xticks([])\n",
        "        axarr[i,j].set_yticks([])\n",
        "        axarr[i,j].imshow(img, interpolation='none', cmap='Blues')\n",
        "        pass\n",
        "    pass"
      ],
      "execution_count": 0,
      "outputs": [
        {
          "output_type": "display_data",
          "data": {
            "image/png": "[encoded data removed]",
            "text/plain": [
              "<Figure size 864x576 with 24 Axes>"
            ]
          },
          "metadata": {
            "tags": []
          }
        }
      ]
    },
    {
      "cell_type": "code",
      "metadata": {
        "id": "qAUxMX90j3yr",
        "colab_type": "code",
        "colab": {}
      },
      "source": [
        ""
      ],
      "execution_count": 0,
      "outputs": []
    }
  ]
}