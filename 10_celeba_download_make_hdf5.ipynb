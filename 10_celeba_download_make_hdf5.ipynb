{
  "nbformat": 4,
  "nbformat_minor": 0,
  "metadata": {
    "colab": {
      "name": "10_celeba_download_make_hdf5.ipynb",
      "provenance": [],
      "collapsed_sections": []
    },
    "kernelspec": {
      "name": "python3",
      "display_name": "Python 3"
    }
  },
  "cells": [
    {
      "cell_type": "markdown",
      "metadata": {
        "id": "DpII-qgno6EX",
        "colab_type": "text"
      },
      "source": [
        "# Human Faces - Download CelebA Data and Make HDF5\n",
        "\n",
        "Make Your First GAN With PyTorch, 2020"
      ]
    },
    {
      "cell_type": "code",
      "metadata": {
        "id": "B6g6LPI9Xjgl",
        "colab_type": "code",
        "colab": {}
      },
      "source": [
        "# mount Drive to access data files\n",
        "\n",
        "from google.colab import drive\n",
        "drive.mount('./mount')"
      ],
      "execution_count": 0,
      "outputs": []
    },
    {
      "cell_type": "markdown",
      "metadata": {
        "id": "Wi65ho8_tgQG",
        "colab_type": "text"
      },
      "source": [
        "## Download CelebA Dataset\n",
        "\n",
        "The downloaded data will be deleted after the colab virtual machine is deleted."
      ]
    },
    {
      "cell_type": "code",
      "metadata": {
        "id": "Jw2Il5l-zB1l",
        "colab_type": "code",
        "colab": {}
      },
      "source": [
        "import torchvision.datasets"
      ],
      "execution_count": 0,
      "outputs": []
    },
    {
      "cell_type": "code",
      "metadata": {
        "id": "-MKGmYJW1EPY",
        "colab_type": "code",
        "outputId": "a7d96fb7-8670-4dd9-f949-e31d424246bf",
        "colab": {
          "base_uri": "https://localhost:8080/",
          "height": 119
        }
      },
      "source": [
        "# download data\n",
        "\n",
        "mnist_dataset = torchvision.datasets.CelebA(root='.', download=True)"
      ],
      "execution_count": 0,
      "outputs": [
        {
          "output_type": "stream",
          "text": [
            "1443490838it [00:22, 64635897.32it/s]\n",
            "26721026it [00:00, 71436606.56it/s]\n",
            "3424458it [00:00, 178833829.96it/s]\n",
            "6082035it [00:00, 210968621.12it/s]\n",
            "12156055it [00:00, 188265275.26it/s]\n",
            "2836386it [00:00, 169782576.64it/s]\n"
          ],
          "name": "stderr"
        }
      ]
    },
    {
      "cell_type": "markdown",
      "metadata": {
        "id": "B9hyVvblv0kF",
        "colab_type": "text"
      },
      "source": [
        "## Extract Images and Re-Package as HDF5\n",
        "\n",
        "The HDF5 file is located in google Drive and won't be deleted when the colab virtual machine is deleted."
      ]
    },
    {
      "cell_type": "code",
      "metadata": {
        "id": "mgPN34s04_li",
        "colab_type": "code",
        "colab": {}
      },
      "source": [
        "import h5py\n",
        "import zipfile\n",
        "import imageio\n",
        "import os"
      ],
      "execution_count": 0,
      "outputs": []
    },
    {
      "cell_type": "code",
      "metadata": {
        "id": "UJXhnB3wv7kl",
        "colab_type": "code",
        "outputId": "4131f301-1c89-4b21-a9e5-3eb2aff267f3",
        "colab": {
          "base_uri": "https://localhost:8080/",
          "height": 391
        }
      },
      "source": [
        "%%time\n",
        "\n",
        "# location of the HDF5 package, yours may be under /gan/ not /myo_gan/\n",
        "hdf5_file = 'mount/My Drive/Colab Notebooks/myo_gan/celeba_dataset/celeba_aligned_small.h5py'\n",
        "\n",
        "# how many of the 202,599 images to extract and package into HDF5\n",
        "total_images = 20000\n",
        "\n",
        "with h5py.File(hdf5_file, 'w') as hf:\n",
        "\n",
        "    count = 0\n",
        "\n",
        "    with zipfile.ZipFile('celeba/img_align_celeba.zip', 'r') as zf:\n",
        "      for i in zf.namelist():\n",
        "        if (i[-4:] == '.jpg'):\n",
        "          # extract image\n",
        "          ofile = zf.extract(i)\n",
        "          img = imageio.imread(ofile)\n",
        "          os.remove(ofile)\n",
        "\n",
        "          # add image data to HDF5 file with new name\n",
        "          hf.create_dataset('img_align_celeba/'+str(count)+'.jpg', data=img, compression=\"gzip\", compression_opts=9)\n",
        "          \n",
        "          count = count + 1\n",
        "          if (count%1000 == 0):\n",
        "            print(\"images done .. \", count)\n",
        "            pass\n",
        "            \n",
        "          # stop when total_images reached\n",
        "          if (count == total_images):\n",
        "            break\n",
        "          pass\n",
        "\n",
        "        pass\n",
        "      pass"
      ],
      "execution_count": 0,
      "outputs": [
        {
          "output_type": "stream",
          "text": [
            "images done ..  1000\n",
            "images done ..  2000\n",
            "images done ..  3000\n",
            "images done ..  4000\n",
            "images done ..  5000\n",
            "images done ..  6000\n",
            "images done ..  7000\n",
            "images done ..  8000\n",
            "images done ..  9000\n",
            "images done ..  10000\n",
            "images done ..  11000\n",
            "images done ..  12000\n",
            "images done ..  13000\n",
            "images done ..  14000\n",
            "images done ..  15000\n",
            "images done ..  16000\n",
            "images done ..  17000\n",
            "images done ..  18000\n",
            "images done ..  19000\n",
            "images done ..  20000\n",
            "CPU times: user 3min 11s, sys: 10.1 s, total: 3min 21s\n",
            "Wall time: 4min 3s\n"
          ],
          "name": "stdout"
        }
      ]
    },
    {
      "cell_type": "code",
      "metadata": {
        "id": "3O1cSNS2_mdC",
        "colab_type": "code",
        "colab": {}
      },
      "source": [
        ""
      ],
      "execution_count": 0,
      "outputs": []
    }
  ]
}